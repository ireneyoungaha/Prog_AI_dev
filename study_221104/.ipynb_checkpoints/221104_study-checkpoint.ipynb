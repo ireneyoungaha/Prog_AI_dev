{
 "cells": [
  {
   "cell_type": "markdown",
   "metadata": {},
   "source": [
    "5-1 검증 세트, 전처리 과정\n",
    "5-2 과대적합/과소적합\n",
    "5-3 규제 방법\n",
    "5-4 교차 검증 \n",
    "\n",
    "테스트 세트는 어떤 한 데이터 세트에 대해서도 치우치지 않게끔."
   ]
  },
  {
   "cell_type": "markdown",
   "metadata": {},
   "source": [
    "### 5-1 검증 세트, 전처리 과정"
   ]
  },
  {
   "cell_type": "markdown",
   "metadata": {},
   "source": [
    "Logistic model"
   ]
  },
  {
   "cell_type": "code",
   "execution_count": 3,
   "metadata": {},
   "outputs": [
    {
     "name": "stderr",
     "output_type": "stream",
     "text": [
      "c:\\users\\하영아\\appdata\\local\\programs\\python\\python38\\lib\\site-packages\\sklearn\\linear_model\\_stochastic_gradient.py:173: FutureWarning: The loss 'log' was deprecated in v1.1 and will be removed in version 1.3. Use `loss='log_loss'` which is equivalent.\n",
      "  warnings.warn(\n"
     ]
    },
    {
     "data": {
      "text/plain": [
       "0.833"
      ]
     },
     "execution_count": 3,
     "metadata": {},
     "output_type": "execute_result"
    }
   ],
   "source": [
    "from sklearn.datasets import load_breast_cancer\n",
    "from sklearn.model_selection import train_test_split\n",
    "from sklearn.linear_model import SGDClassifier\n",
    "\n",
    "cancer = load_breast_cancer()\n",
    "x, y  = cancer.data, cancer.target\n",
    "x_train_all, x_test, y_train_all, y_test = train_test_split(x,y,stratify = y, test_size = 0.2, random_state= 42)\n",
    "\n",
    "\n",
    "sgd = SGDClassifier(loss = 'log', random_state = 42)\n",
    "sgd.fit(x_train_all,y_train_all)\n",
    "round(sgd.score(x_test, y_test), 3)"
   ]
  },
  {
   "cell_type": "markdown",
   "metadata": {},
   "source": [
    "SVM"
   ]
  },
  {
   "cell_type": "code",
   "execution_count": null,
   "metadata": {},
   "outputs": [],
   "source": [
    "sgd = SGDClassifier(loss = 'hinge', random_state = 42)\n",
    "sgd.fit(x_train_all,y_train_all)\n",
    "sgd.score(x_test, y_test)"
   ]
  },
  {
   "cell_type": "markdown",
   "metadata": {},
   "source": [
    "Loss function을 바꾸어가면서 성능을 개선시킬 수 있다. => 모델 튜닝 작업. 하지만 과연 실전에서도 좋은 성능을 낼까? \n",
    "일반화 성능의 왜곡: 테스트 세트로 모델 튜닝을 하면 실제 성능이 좋기 어렵다. \n",
    "따라서 모델 튜닝에 테스트 세트를 사용하지 않아야 한다. 튜닝용도의 검증 세트는 훈련세트를 조금 떼어서 사용한다. (훈6 검2 테2)"
   ]
  },
  {
   "cell_type": "code",
   "execution_count": null,
   "metadata": {},
   "outputs": [],
   "source": [
    "x_train, x_val, y_train, y_val = train_test_split(x_train_all, y_train_all, \n",
    "stratify=y_train_all, test_size=0.2, random_state = 42)\n",
    "print(len(x_train),len(x_val))\n",
    "\n",
    "sgd = SGDClassifier(loss = 'log', random_state = 42)\n",
    "sgd.fit(x_train,y_train)\n",
    "sgd.score(x_val, y_val)"
   ]
  },
  {
   "cell_type": "markdown",
   "metadata": {},
   "source": [
    "교차 검증을 데이터 양이 적을 때 사용할 수 있다. \n",
    "10만개 8:1:1, 100만개 98:1:1 정도로 나눈다."
   ]
  },
  {
   "cell_type": "markdown",
   "metadata": {},
   "source": [
    "### 데이터 전처리, 특성의 스케일\n",
    "![1](../)\n",
    "\n",
    "\n"
   ]
  },
  {
   "cell_type": "code",
   "execution_count": null,
   "metadata": {},
   "outputs": [],
   "source": [
    "특성의 스케일을 조정해주어야 "
   ]
  },
  {
   "cell_type": "code",
   "execution_count": null,
   "metadata": {},
   "outputs": [],
   "source": []
  }
 ],
 "metadata": {
  "kernelspec": {
   "display_name": "Python 3 (ipykernel)",
   "language": "python",
   "name": "python3"
  },
  "language_info": {
   "codemirror_mode": {
    "name": "ipython",
    "version": 3
   },
   "file_extension": ".py",
   "mimetype": "text/x-python",
   "name": "python",
   "nbconvert_exporter": "python",
   "pygments_lexer": "ipython3",
   "version": "3.8.0"
  },
  "vscode": {
   "interpreter": {
    "hash": "e0c1962a52e198cc006b1029570b749a138b14c8a17faf1cdd9dc804330f3c59"
   }
  }
 },
 "nbformat": 4,
 "nbformat_minor": 4
}
